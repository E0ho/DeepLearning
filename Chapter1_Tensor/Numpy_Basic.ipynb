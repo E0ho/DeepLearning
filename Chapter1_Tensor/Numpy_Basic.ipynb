{
  "cells": [
    {
      "attachments": {},
      "cell_type": "markdown",
      "metadata": {
        "id": "wKerwOYq1qI3"
      },
      "source": [
        "## Numpy - Tensor 다루기"
      ]
    },
    {
      "cell_type": "code",
      "execution_count": 1,
      "metadata": {
        "id": "07HStpnjLTyg"
      },
      "outputs": [],
      "source": [
        "import numpy as np"
      ]
    },
    {
      "attachments": {},
      "cell_type": "markdown",
      "metadata": {
        "id": "DxyK-WCYLeeg"
      },
      "source": [
        "### Tensor 생성법"
      ]
    },
    {
      "cell_type": "code",
      "execution_count": 2,
      "metadata": {
        "colab": {
          "base_uri": "https://localhost:8080/"
        },
        "id": "664w61s9Lo2g",
        "outputId": "5dce54eb-0cc7-47f9-bccc-f7b96e15228a"
      },
      "outputs": [
        {
          "data": {
            "text/plain": [
              "array([[ 1,  2,  3,  4],\n",
              "       [ 5,  6,  7,  8],\n",
              "       [ 9, 10, 11, 12]])"
            ]
          },
          "execution_count": 2,
          "metadata": {},
          "output_type": "execute_result"
        }
      ],
      "source": [
        "# tensor 생성\n",
        "a = np.array( [ [1,2,3,4], [5,6,7,8], [9,10,11,12] ] )\n",
        "a"
      ]
    },
    {
      "cell_type": "code",
      "execution_count": 3,
      "metadata": {
        "colab": {
          "base_uri": "https://localhost:8080/"
        },
        "id": "dkXZozfEL1hf",
        "outputId": "859c1802-88c2-4cb3-fedd-31c4712add66"
      },
      "outputs": [
        {
          "data": {
            "text/plain": [
              "array([[0., 0., 0., 0.],\n",
              "       [0., 0., 0., 0.],\n",
              "       [0., 0., 0., 0.]])"
            ]
          },
          "execution_count": 3,
          "metadata": {},
          "output_type": "execute_result"
        }
      ],
      "source": [
        "# 0 tensor 생성\n",
        "a = np.zeros( (3,4) )\n",
        "a"
      ]
    },
    {
      "cell_type": "code",
      "execution_count": 4,
      "metadata": {
        "colab": {
          "base_uri": "https://localhost:8080/"
        },
        "id": "ExJ0AiRzLqVP",
        "outputId": "0625f61b-73eb-4aa5-f4d7-6d674e820092"
      },
      "outputs": [
        {
          "data": {
            "text/plain": [
              "array([[1., 1., 1., 1.],\n",
              "       [1., 1., 1., 1.],\n",
              "       [1., 1., 1., 1.]])"
            ]
          },
          "execution_count": 4,
          "metadata": {},
          "output_type": "execute_result"
        }
      ],
      "source": [
        "# 1 tensor 생성\n",
        "a = np.ones( (3,4) )\n",
        "a"
      ]
    },
    {
      "cell_type": "code",
      "execution_count": 5,
      "metadata": {
        "colab": {
          "base_uri": "https://localhost:8080/"
        },
        "id": "jhmL1TPyMPif",
        "outputId": "82a1077a-5794-4924-d130-b84a3bb4b7fa"
      },
      "outputs": [
        {
          "data": {
            "text/plain": [
              "array([[1., 0.],\n",
              "       [0., 1.]])"
            ]
          },
          "execution_count": 5,
          "metadata": {},
          "output_type": "execute_result"
        }
      ],
      "source": [
        "# 항등 행렬 tensor 생성\n",
        "a = np.eye(2)\n",
        "a"
      ]
    },
    {
      "cell_type": "code",
      "execution_count": 6,
      "metadata": {
        "colab": {
          "base_uri": "https://localhost:8080/"
        },
        "id": "Unp5CpTDMSKH",
        "outputId": "54c2bbe0-b87e-4dc7-e2d9-c42e9b055cb9"
      },
      "outputs": [
        {
          "data": {
            "text/plain": [
              "array([[0.06279092, 0.54308993, 0.34991248, 0.09520045],\n",
              "       [0.14738087, 0.6203786 , 0.68526406, 0.35361214],\n",
              "       [0.52891378, 0.01614134, 0.2695091 , 0.89130305]])"
            ]
          },
          "execution_count": 6,
          "metadata": {},
          "output_type": "execute_result"
        }
      ],
      "source": [
        "# 랜덤 tensor 생성\n",
        "a = np.random.random( (3,4) )\n",
        "a"
      ]
    },
    {
      "cell_type": "code",
      "execution_count": 7,
      "metadata": {
        "colab": {
          "base_uri": "https://localhost:8080/"
        },
        "id": "G3Q92OqWM1ZG",
        "outputId": "674bcb89-33db-450e-b695-44419dc48a18"
      },
      "outputs": [
        {
          "data": {
            "text/plain": [
              "array([[ 1,  2,  3,  4],\n",
              "       [ 5,  6,  7,  8],\n",
              "       [ 9, 10, 11, 12]])"
            ]
          },
          "execution_count": 7,
          "metadata": {},
          "output_type": "execute_result"
        }
      ],
      "source": [
        "# Range tensor 생성\n",
        "a = np.array(range(1,13))     # [1,2,3,4,5,6,7,8,9,10,11,12]\n",
        "a = a.reshape((3,4)) \n",
        "a"
      ]
    },
    {
      "attachments": {},
      "cell_type": "markdown",
      "metadata": {
        "id": "iK6rISmVMiLW"
      },
      "source": [
        "### Tensor 차원 다루기"
      ]
    },
    {
      "cell_type": "code",
      "execution_count": 8,
      "metadata": {
        "colab": {
          "base_uri": "https://localhost:8080/"
        },
        "id": "f5ZuTvBTMklf",
        "outputId": "b14163b5-3c83-4fe5-f53a-c5a8c0346a31"
      },
      "outputs": [
        {
          "data": {
            "text/plain": [
              "(3, 4)"
            ]
          },
          "execution_count": 8,
          "metadata": {},
          "output_type": "execute_result"
        }
      ],
      "source": [
        "# 차원의 크기\n",
        "a.shape       # 반드시 tuple 형태"
      ]
    },
    {
      "cell_type": "code",
      "execution_count": 9,
      "metadata": {
        "colab": {
          "base_uri": "https://localhost:8080/"
        },
        "id": "nBeFeLs4Mohf",
        "outputId": "d96c7b73-f89e-47f3-b333-a124cf26aa56"
      },
      "outputs": [
        {
          "data": {
            "text/plain": [
              "2"
            ]
          },
          "execution_count": 9,
          "metadata": {},
          "output_type": "execute_result"
        }
      ],
      "source": [
        "# 차원의 수\n",
        "a.ndim       # len(a.shape)   # rank   # dimension"
      ]
    },
    {
      "cell_type": "code",
      "execution_count": 10,
      "metadata": {
        "colab": {
          "base_uri": "https://localhost:8080/"
        },
        "id": "euYQeV8dMp0o",
        "outputId": "d9c6045f-f125-46f7-c7bb-dc112f05afe6"
      },
      "outputs": [
        {
          "data": {
            "text/plain": [
              "array([[ 1,  2,  3],\n",
              "       [ 4,  5,  6],\n",
              "       [ 7,  8,  9],\n",
              "       [10, 11, 12]])"
            ]
          },
          "execution_count": 10,
          "metadata": {},
          "output_type": "execute_result"
        }
      ],
      "source": [
        "# 차원 변경\n",
        "a = a.reshape( (4, -1) )      # a.reshape( (4, 3) )    # np.reshape( a, (4, -1) )\n",
        "a"
      ]
    },
    {
      "cell_type": "code",
      "execution_count": 11,
      "metadata": {
        "colab": {
          "base_uri": "https://localhost:8080/"
        },
        "id": "Il23FU8YNZgf",
        "outputId": "998ea066-355e-4e6e-e062-6d5a311ee1f5"
      },
      "outputs": [
        {
          "data": {
            "text/plain": [
              "(12,)"
            ]
          },
          "execution_count": 11,
          "metadata": {},
          "output_type": "execute_result"
        }
      ],
      "source": [
        "# 1차원\n",
        "a = a.flatten()\n",
        "a.shape"
      ]
    },
    {
      "attachments": {},
      "cell_type": "markdown",
      "metadata": {
        "id": "rTHQFnd-Z4cw"
      },
      "source": [
        "**차원 확장 기법**"
      ]
    },
    {
      "cell_type": "code",
      "execution_count": 12,
      "metadata": {
        "colab": {
          "base_uri": "https://localhost:8080/"
        },
        "id": "s01h-x1nNfJX",
        "outputId": "08c9cf59-7e7f-485f-caad-5d9d73565dfe"
      },
      "outputs": [
        {
          "data": {
            "text/plain": [
              "array([[[1, 2],\n",
              "        [3, 4],\n",
              "        [5, 6]]])"
            ]
          },
          "execution_count": 12,
          "metadata": {},
          "output_type": "execute_result"
        }
      ],
      "source": [
        "# 차원 확장 (axis = 0 차원 확장)\n",
        "a = np.array([[1,2,],[3,4],[5,6]])\n",
        "\n",
        "b = np.expand_dims(a, axis=0)\n",
        "b = a.reshape((1, *a.shape))\n",
        "b = a.reshape((1, 3, 2))\n",
        "b = np.reshape(a, (1, 3, 2))\n",
        "b = np.array([a])\n",
        "\n",
        "b"
      ]
    },
    {
      "cell_type": "code",
      "execution_count": null,
      "metadata": {
        "colab": {
          "base_uri": "https://localhost:8080/"
        },
        "id": "NcdsuEguUKx_",
        "outputId": "55d85ad7-0fad-40d1-ae0d-223fba3d798e"
      },
      "outputs": [
        {
          "data": {
            "text/plain": [
              "array([[[1],\n",
              "        [2]],\n",
              "\n",
              "       [[3],\n",
              "        [4]],\n",
              "\n",
              "       [[5],\n",
              "        [6]]])"
            ]
          },
          "execution_count": 96,
          "metadata": {},
          "output_type": "execute_result"
        }
      ],
      "source": [
        "# 차원 확장 (axis = -1 차원 확장)\n",
        "a = np.array([[1,2,],[3,4],[5,6]])\n",
        "\n",
        "c = np.expand_dims(a, axis = -1)\n",
        "c = a.reshape( (*a.shape, 1) ) \n",
        "\n",
        "c"
      ]
    },
    {
      "attachments": {},
      "cell_type": "markdown",
      "metadata": {
        "id": "pwIvRUgmN8gY"
      },
      "source": [
        "### 데이터 타입 (dtype)"
      ]
    },
    {
      "cell_type": "code",
      "execution_count": null,
      "metadata": {
        "colab": {
          "base_uri": "https://localhost:8080/"
        },
        "id": "2ysB6QAJOAXB",
        "outputId": "6c6d7835-a74a-44a0-9fdc-7e8d7a489d88"
      },
      "outputs": [
        {
          "data": {
            "text/plain": [
              "dtype('int64')"
            ]
          },
          "execution_count": 61,
          "metadata": {},
          "output_type": "execute_result"
        }
      ],
      "source": [
        "a = np.array([ [1, 2], [3, 4], [5, 6] ])\n",
        "a.dtype"
      ]
    },
    {
      "cell_type": "code",
      "execution_count": null,
      "metadata": {
        "colab": {
          "base_uri": "https://localhost:8080/"
        },
        "id": "ooEcNXCdOCvI",
        "outputId": "e688dfac-8495-4e1b-e598-f00f649f486f"
      },
      "outputs": [
        {
          "data": {
            "text/plain": [
              "dtype('float64')"
            ]
          },
          "execution_count": 60,
          "metadata": {},
          "output_type": "execute_result"
        }
      ],
      "source": [
        "# 부동 소수점\n",
        "b = np.array([ [1., 2.], [3., 4.], [5., 6.] ])\n",
        "b.dtype"
      ]
    },
    {
      "cell_type": "code",
      "execution_count": null,
      "metadata": {
        "colab": {
          "base_uri": "https://localhost:8080/"
        },
        "id": "-qdUokA1ODeP",
        "outputId": "cc0f5beb-da79-4fb6-e398-1c310d39f87f"
      },
      "outputs": [
        {
          "data": {
            "text/plain": [
              "dtype('float64')"
            ]
          },
          "execution_count": 59,
          "metadata": {},
          "output_type": "execute_result"
        }
      ],
      "source": [
        "c = np.zeros( (2,2) )\n",
        "c.dtype"
      ]
    },
    {
      "attachments": {},
      "cell_type": "markdown",
      "metadata": {
        "id": "Ql164g6KOK4Q"
      },
      "source": [
        "### Indexing, Slicing"
      ]
    },
    {
      "cell_type": "code",
      "execution_count": null,
      "metadata": {
        "colab": {
          "base_uri": "https://localhost:8080/"
        },
        "id": "VB0YCmc2OTSx",
        "outputId": "f14e5dc8-0ba1-4dcb-831b-6ad078927479"
      },
      "outputs": [
        {
          "data": {
            "text/plain": [
              "2"
            ]
          },
          "execution_count": 64,
          "metadata": {},
          "output_type": "execute_result"
        }
      ],
      "source": [
        "# Indexing\n",
        "a[1, 1:3]         # array([6, 7]),      차원의 수 = 1,  차원 = (2, )\n",
        "a.ndim"
      ]
    },
    {
      "cell_type": "code",
      "execution_count": null,
      "metadata": {
        "colab": {
          "base_uri": "https://localhost:8080/"
        },
        "id": "Lyi3nr94OYIA",
        "outputId": "f5689cfa-47f4-4388-d35c-00f47d21ec0a"
      },
      "outputs": [
        {
          "data": {
            "text/plain": [
              "2"
            ]
          },
          "execution_count": 65,
          "metadata": {},
          "output_type": "execute_result"
        }
      ],
      "source": [
        "# Slicing\n",
        "a[1:2, 1:3]       # array([[6, 7]]),    차원의 수 = 2 , 차원 = (1,2)\n",
        "a.ndim"
      ]
    },
    {
      "attachments": {},
      "cell_type": "markdown",
      "metadata": {
        "id": "DBkxirpwQCCI"
      },
      "source": [
        "### Filter"
      ]
    },
    {
      "cell_type": "code",
      "execution_count": null,
      "metadata": {
        "id": "WV6X7ojuQtMg"
      },
      "outputs": [],
      "source": [
        "a = np.reshape(np.array( range(1,13) ), (3,4) )"
      ]
    },
    {
      "cell_type": "code",
      "execution_count": null,
      "metadata": {
        "colab": {
          "base_uri": "https://localhost:8080/"
        },
        "id": "3gdZ0pg3QExI",
        "outputId": "28af763e-0f38-4efd-f6b5-36df76513a62"
      },
      "outputs": [
        {
          "data": {
            "text/plain": [
              "array([[ True, False,  True, False],\n",
              "       [ True, False,  True, False],\n",
              "       [ True, False,  True, False]])"
            ]
          },
          "execution_count": 71,
          "metadata": {},
          "output_type": "execute_result"
        }
      ],
      "source": [
        "# 각 원소 조건 return\n",
        "a % 2 == 1"
      ]
    },
    {
      "cell_type": "code",
      "execution_count": null,
      "metadata": {
        "colab": {
          "base_uri": "https://localhost:8080/"
        },
        "id": "-4_wb5CSQZ__",
        "outputId": "a7a642d8-cf9c-430c-dad4-a573fb69b59e"
      },
      "outputs": [
        {
          "data": {
            "text/plain": [
              "array([ 1,  3,  5,  7,  9, 11])"
            ]
          },
          "execution_count": 72,
          "metadata": {},
          "output_type": "execute_result"
        }
      ],
      "source": [
        "# True 조건 원소 return\n",
        "a[a % 2 == 1]"
      ]
    },
    {
      "attachments": {},
      "cell_type": "markdown",
      "metadata": {
        "id": "_8HPCaFsOm_X"
      },
      "source": [
        "### Tensor 연산 - Broadcasting"
      ]
    },
    {
      "attachments": {},
      "cell_type": "markdown",
      "metadata": {
        "id": "YiJbRaxQSPhI"
      },
      "source": [
        "- a + b = np.add(a,b)\n",
        "- a - b = np.subtract(a,b)\n",
        "- a * b = np.multiply(a,b)\n",
        "- a / b = np.divide(a,b)\n",
        "- np.sqrt(a) -> 루트\n",
        "- np.maximum(a,b)"
      ]
    },
    {
      "cell_type": "code",
      "execution_count": 13,
      "metadata": {
        "colab": {
          "base_uri": "https://localhost:8080/"
        },
        "id": "f61ox0PJOssg",
        "outputId": "15953874-d520-4b18-da7d-02227142e6a5"
      },
      "outputs": [
        {
          "name": "stdout",
          "output_type": "stream",
          "text": [
            "[[2 4 6]\n",
            " [5 7 9]]\n"
          ]
        }
      ],
      "source": [
        "# 서로 다른 차원 연산 가능\n",
        "a = np.array([1, 2, 3])     # 1차원 배열\n",
        "b = np.array([[1, 2, 3],    # 2차원 배열\n",
        "              [4, 5, 6]])\n",
        "\n",
        "c = a + b                   # Broadcasting이 적용된 연산\n",
        "print(c)"
      ]
    },
    {
      "cell_type": "code",
      "execution_count": 14,
      "metadata": {
        "id": "QUOrnH_mRk-x"
      },
      "outputs": [],
      "source": [
        "a = np.array( [ [1,2],[3,4] ] )"
      ]
    },
    {
      "cell_type": "code",
      "execution_count": 15,
      "metadata": {
        "colab": {
          "base_uri": "https://localhost:8080/"
        },
        "id": "KqA2UdZIRdqY",
        "outputId": "10b9550b-f5f0-4b2b-f109-06b010756510"
      },
      "outputs": [
        {
          "data": {
            "text/plain": [
              "array([[11, 12],\n",
              "       [13, 14]])"
            ]
          },
          "execution_count": 15,
          "metadata": {},
          "output_type": "execute_result"
        }
      ],
      "source": [
        "# 각 원소별 연산\n",
        "a + np.array([10])"
      ]
    },
    {
      "cell_type": "code",
      "execution_count": 16,
      "metadata": {
        "colab": {
          "base_uri": "https://localhost:8080/"
        },
        "id": "VUL5Mx8kRg-Y",
        "outputId": "51f8e795-4ce3-41d6-c47e-cdd6a9bfdeba"
      },
      "outputs": [
        {
          "data": {
            "text/plain": [
              "array([[11, 22],\n",
              "       [13, 24]])"
            ]
          },
          "execution_count": 16,
          "metadata": {},
          "output_type": "execute_result"
        }
      ],
      "source": [
        "# 한 행 씩 연산\n",
        "a + np.array([10,20])"
      ]
    },
    {
      "cell_type": "code",
      "execution_count": 17,
      "metadata": {
        "colab": {
          "base_uri": "https://localhost:8080/"
        },
        "id": "Z2NasFgnRjI4",
        "outputId": "1f3fda38-81ad-4906-b02e-712b1785718c"
      },
      "outputs": [
        {
          "data": {
            "text/plain": [
              "array([[11, 12],\n",
              "       [23, 24]])"
            ]
          },
          "execution_count": 17,
          "metadata": {},
          "output_type": "execute_result"
        }
      ],
      "source": [
        "# 매핑되는 각 행에서 한 열 씩 연산\n",
        "a + np.array([[10],[20]])"
      ]
    },
    {
      "attachments": {},
      "cell_type": "markdown",
      "metadata": {
        "id": "pH-AFXg9aQmr"
      },
      "source": [
        "**Concatenation**"
      ]
    },
    {
      "cell_type": "code",
      "execution_count": 18,
      "metadata": {
        "colab": {
          "base_uri": "https://localhost:8080/"
        },
        "id": "0oJWNvh5VQAo",
        "outputId": "1a97dd12-6b32-4291-eab6-6dae8fd90864"
      },
      "outputs": [
        {
          "data": {
            "text/plain": [
              "array([[ 1,  2],\n",
              "       [ 3,  4],\n",
              "       [ 5,  6],\n",
              "       [ 7,  8],\n",
              "       [ 9, 10],\n",
              "       [11, 12]])"
            ]
          },
          "execution_count": 18,
          "metadata": {},
          "output_type": "execute_result"
        }
      ],
      "source": [
        "# concatenation - 수직 (row)\n",
        "a = np.array([[1,2],[3,4],[5,6]])\n",
        "b = np.array([[7,8],[9,10],[11,12]])\n",
        "\n",
        "np.concatenate((a,b), axis = 0)     # np.r_[a,b]    # np.vstack((a,b))"
      ]
    },
    {
      "cell_type": "code",
      "execution_count": 19,
      "metadata": {
        "colab": {
          "base_uri": "https://localhost:8080/"
        },
        "id": "afN060i2Vuy4",
        "outputId": "06070564-d530-4a76-8970-07b86fbafdc2"
      },
      "outputs": [
        {
          "data": {
            "text/plain": [
              "array([[ 1,  2,  7,  8],\n",
              "       [ 3,  4,  9, 10],\n",
              "       [ 5,  6, 11, 12]])"
            ]
          },
          "execution_count": 19,
          "metadata": {},
          "output_type": "execute_result"
        }
      ],
      "source": [
        "# concatenation - 수평 (col)\n",
        "a = np.array([[1,2],[3,4],[5,6]])\n",
        "b = np.array([[7,8],[9,10],[11,12]])\n",
        "\n",
        "np.concatenate((a,b), axis = 1)     # np.c_[a,b]    # np.hstack((a,b))"
      ]
    },
    {
      "attachments": {},
      "cell_type": "markdown",
      "metadata": {
        "id": "sbLLkbwHSfyg"
      },
      "source": [
        "### Matrix multiplication (dot)"
      ]
    },
    {
      "cell_type": "code",
      "execution_count": 20,
      "metadata": {
        "colab": {
          "base_uri": "https://localhost:8080/"
        },
        "id": "c0bkxhenSn04",
        "outputId": "491893a8-bd92-4685-bce4-fb7979168658"
      },
      "outputs": [
        {
          "data": {
            "text/plain": [
              "array([[14, 32],\n",
              "       [32, 77]])"
            ]
          },
          "execution_count": 20,
          "metadata": {},
          "output_type": "execute_result"
        }
      ],
      "source": [
        "x = np.array([[1,2,3],[4,5,6]])\n",
        "y = x.T\n",
        "z = x.dot(y)      # np.dot(x, y)\n",
        "z"
      ]
    }
  ],
  "metadata": {
    "accelerator": "GPU",
    "colab": {
      "provenance": [],
      "toc_visible": true
    },
    "gpuClass": "standard",
    "kernelspec": {
      "display_name": "default:Python",
      "language": "python",
      "name": "conda-env-default-py"
    },
    "language_info": {
      "codemirror_mode": {
        "name": "ipython",
        "version": 3
      },
      "file_extension": ".py",
      "mimetype": "text/x-python",
      "name": "python",
      "nbconvert_exporter": "python",
      "pygments_lexer": "ipython3",
      "version": "3.9.10"
    }
  },
  "nbformat": 4,
  "nbformat_minor": 0
}
