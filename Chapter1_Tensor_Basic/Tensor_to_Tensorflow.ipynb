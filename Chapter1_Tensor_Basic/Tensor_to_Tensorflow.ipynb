{
  "cells": [
    {
      "attachments": {},
      "cell_type": "markdown",
      "metadata": {
        "id": "eCq_paX90QDL"
      },
      "source": [
        "## Tensorflow - Tensor 다루기"
      ]
    },
    {
      "attachments": {},
      "cell_type": "markdown",
      "metadata": {
        "id": "2cS57Cyr0V_b"
      },
      "source": [
        "### Tensor 생성법"
      ]
    },
    {
      "cell_type": "code",
      "execution_count": 8,
      "metadata": {},
      "outputs": [],
      "source": [
        "import tensorflow as tf"
      ]
    },
    {
      "cell_type": "code",
      "execution_count": 9,
      "metadata": {
        "id": "cjQyeufC0aGE"
      },
      "outputs": [
        {
          "data": {
            "text/plain": [
              "<tf.Tensor: shape=(2, 1), dtype=float32, numpy=\n",
              "array([[1.],\n",
              "       [1.]], dtype=float32)>"
            ]
          },
          "execution_count": 9,
          "metadata": {},
          "output_type": "execute_result"
        }
      ],
      "source": [
        "# 1 tensor 생성\n",
        "x = tf.ones(shape=(2, 1))\n",
        "x"
      ]
    },
    {
      "cell_type": "code",
      "execution_count": 10,
      "metadata": {
        "id": "9I4toKIh0bsj"
      },
      "outputs": [
        {
          "data": {
            "text/plain": [
              "<tf.Tensor: shape=(2, 1), dtype=float32, numpy=\n",
              "array([[0.],\n",
              "       [0.]], dtype=float32)>"
            ]
          },
          "execution_count": 10,
          "metadata": {},
          "output_type": "execute_result"
        }
      ],
      "source": [
        "# 0 tensor 생성\n",
        "x = tf.zeros(shape=(2, 1))\n",
        "x"
      ]
    },
    {
      "cell_type": "code",
      "execution_count": 11,
      "metadata": {
        "id": "3TrayjoR1BWT"
      },
      "outputs": [
        {
          "data": {
            "text/plain": [
              "<tf.Tensor: shape=(3, 1), dtype=float32, numpy=\n",
              "array([[-0.9246884 ],\n",
              "       [ 1.6853868 ],\n",
              "       [ 0.23186946]], dtype=float32)>"
            ]
          },
          "execution_count": 11,
          "metadata": {},
          "output_type": "execute_result"
        }
      ],
      "source": [
        "# 랜덤 tensor 생성 1\n",
        "x = tf.random.normal(shape=(3, 1), mean=0., stddev=1.)\n",
        "x"
      ]
    },
    {
      "cell_type": "code",
      "execution_count": 12,
      "metadata": {
        "id": "11y1sTA01B9j"
      },
      "outputs": [
        {
          "name": "stdout",
          "output_type": "stream",
          "text": [
            "tf.Tensor(\n",
            "[[0.15283883]\n",
            " [0.88135386]\n",
            " [0.09239089]], shape=(3, 1), dtype=float32)\n"
          ]
        }
      ],
      "source": [
        "# 랜덤 tensor 생성 2\n",
        "x = tf.random.uniform(shape=(3, 1), minval=0., maxval=1.)\n",
        "print(x)"
      ]
    },
    {
      "attachments": {},
      "cell_type": "markdown",
      "metadata": {
        "id": "iaRRWg_p1DSU"
      },
      "source": [
        "### Tensor 변수 - 값 변경"
      ]
    },
    {
      "attachments": {},
      "cell_type": "markdown",
      "metadata": {},
      "source": [
        "**Tensorflow는 Numpy와 다르게 값 변경 불가**"
      ]
    },
    {
      "cell_type": "code",
      "execution_count": 15,
      "metadata": {
        "id": "GIBj7vzk1ERT"
      },
      "outputs": [
        {
          "data": {
            "text/plain": [
              "array([[0., 1.],\n",
              "       [1., 1.]])"
            ]
          },
          "execution_count": 15,
          "metadata": {},
          "output_type": "execute_result"
        }
      ],
      "source": [
        "# Numpy\n",
        "import numpy as np\n",
        "\n",
        "x = np.ones(shape=(2, 2))\n",
        "x[0, 0] = 0.\n",
        "x"
      ]
    },
    {
      "cell_type": "code",
      "execution_count": 48,
      "metadata": {
        "id": "z0aErmpZ1HV7"
      },
      "outputs": [
        {
          "data": {
            "text/plain": [
              "<tf.Variable 'Variable:0' shape=(2, 2) dtype=float32, numpy=\n",
              "array([[0., 1.],\n",
              "       [1., 1.]], dtype=float32)>"
            ]
          },
          "execution_count": 48,
          "metadata": {},
          "output_type": "execute_result"
        }
      ],
      "source": [
        "# Tensorflow\n",
        "import tensorflow as tf\n",
        "\n",
        "# Tensorflow는 Tensor 내 특정 위치에 값 할당 불가 -> Tensor 변수 사용하여 해결\n",
        "v = tf.Variable(initial_value=tf.ones(shape=(2, 2)))\n",
        "v[0, 0].assign(0.)\n",
        "v"
      ]
    },
    {
      "attachments": {},
      "cell_type": "markdown",
      "metadata": {
        "id": "Q2kQpIC01rJT"
      },
      "source": [
        "**텐서플로 변수에 값 할당하기**"
      ]
    },
    {
      "cell_type": "code",
      "execution_count": 35,
      "metadata": {
        "id": "8HRmhGgQ1qh0"
      },
      "outputs": [
        {
          "data": {
            "text/plain": [
              "<tf.Variable 'Variable:0' shape=(2, 2) dtype=float32, numpy=\n",
              "array([[0., 0.],\n",
              "       [0., 0.]], dtype=float32)>"
            ]
          },
          "execution_count": 35,
          "metadata": {},
          "output_type": "execute_result"
        }
      ],
      "source": [
        "v = tf.Variable(initial_value=tf.ones(shape=(2, 2)))\n",
        "v.assign(tf.zeros((2, 2)))\n",
        "v"
      ]
    },
    {
      "attachments": {},
      "cell_type": "markdown",
      "metadata": {
        "id": "KvAuLglO2B3r"
      },
      "source": [
        "### Tensor 기본 연산"
      ]
    },
    {
      "attachments": {},
      "cell_type": "markdown",
      "metadata": {
        "id": "8coaz5DR2YcD"
      },
      "source": [
        "**기본 연산**"
      ]
    },
    {
      "cell_type": "code",
      "execution_count": null,
      "metadata": {},
      "outputs": [],
      "source": [
        "a = tf.Variable(initial_value=tf.ones(shape=(2, 2)))\n",
        "\n",
        "a.assign_add(tf.ones((2, 2)))       # add\n",
        "\n",
        "a.assign_sub(tf.ones((2, 2)))       # substract\n",
        "\n",
        "b = tf.square(a)                    # 제곱\n",
        "\n",
        "b = tf.sqrt(a)                      # 루트\n",
        "\n",
        "a = a + b                           # add \n",
        "\n",
        "a = a *= b                          # 원소간 곱\n",
        "\n",
        "a = tf.matmul(a, b)                 # Dot"
      ]
    }
  ],
  "metadata": {
    "accelerator": "GPU",
    "colab": {
      "provenance": [],
      "toc_visible": true
    },
    "gpuClass": "standard",
    "kernelspec": {
      "display_name": "Python 3",
      "language": "python",
      "name": "python3"
    },
    "language_info": {
      "codemirror_mode": {
        "name": "ipython",
        "version": 3
      },
      "file_extension": ".py",
      "mimetype": "text/x-python",
      "name": "python",
      "nbconvert_exporter": "python",
      "pygments_lexer": "ipython3",
      "version": "3.11.2"
    }
  },
  "nbformat": 4,
  "nbformat_minor": 0
}
